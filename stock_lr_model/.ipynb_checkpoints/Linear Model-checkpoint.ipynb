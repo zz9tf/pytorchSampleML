{
 "cells": [
  {
   "cell_type": "code",
   "execution_count": 21,
   "id": "ac2c5fe6",
   "metadata": {},
   "outputs": [],
   "source": [
    "import os\n",
    "import random\n",
    "\n",
    "import numpy as np\n",
    "import pandas as pd\n",
    "import torch\n",
    "import matplotlib.pyplot as plt\n",
    "\n",
    "class LinearRegression(torch.nn.Module):\n",
    "    def __init__(self, model):\n",
    "        super(LinearRegression, self).__init__()\n",
    "        self.linear = torch.nn.Linear(5, 1)\n",
    "\n",
    "    def forward(self, x):\n",
    "        y = self.linear(x)\n",
    "        return y\n",
    "    \n",
    "    \n",
    "class Model(Network):\n",
    "    def __init__(self):\n",
    "        self.model = super(self)\n",
    "        self.optimizer = torch.optim.SGD(self.model.parameters(),\n",
    "                                         lr=1e-1)\n",
    "        self.criterion = torch.nn.MSELoss()\n",
    "        self.loss = []\n",
    "\n",
    "    def trainAnEpoch(self, inputs, answers):\n",
    "        outputs = self.model(inputs)\n",
    "        loss = self.criterion(outputs, answers)\n",
    "        loss.backward()\n",
    "        self.optimizer.step()\n",
    "        self.optimizer.zero_grad()\n",
    "        self.loss.append(float(loss))\n",
    "\n",
    "    def predict(self, inputs):\n",
    "        return self.model(inputs)\n",
    "    \n",
    "def loadData():\n",
    "    dataSet = {}\n",
    "    validPoints = 0\n",
    "    totalPoints = 0\n",
    "    print(\"Detected stocks: \" + str(len(os.listdir(\"./data/stocks\"))))\n",
    "    for fileName in os.listdir(\"./data/stocks\"):\n",
    "        dataSet[fileName] = pd.read_csv(\"./data/stocks/\" + fileName,\n",
    "                                        sep=\",\",\n",
    "                                        header=0,\n",
    "                                        usecols=[4, 13, 14, 15, 16, 17],\n",
    "                                        encoding=\"gbk\",\n",
    "                                        dtype=\"float64\"\n",
    "                                        ).dropna()\n",
    "        totalPoints += dataSet[fileName].shape[0]\n",
    "        dataSet[fileName] = ((dataSet[fileName] - dataSet[fileName].mean()) / (dataSet[fileName].std())).dropna()\n",
    "        if dataSet[fileName].empty:\n",
    "            # print(\"Warning: problematic stock dataset \" + fileName)\n",
    "            del dataSet[fileName]\n",
    "        else:\n",
    "            validPoints += dataSet[fileName].shape[0]\n",
    "    print(\"Total data points: \" + str(totalPoints))\n",
    "    print(\"Valid data points: \" + str(validPoints))\n",
    "    print(\"Valid stocks: \" + str(len(dataSet.keys())))\n",
    "\n",
    "    return dataSet"
   ]
  },
  {
   "cell_type": "markdown",
   "id": "e92b89f2",
   "metadata": {},
   "source": [
    "## 1. Get dataset"
   ]
  },
  {
   "cell_type": "code",
   "execution_count": 2,
   "id": "604c3fa8",
   "metadata": {},
   "outputs": [
    {
     "name": "stdout",
     "output_type": "stream",
     "text": [
      "Detected stocks: 4702\n",
      "Total data points: 35232\n",
      "Valid data points: 34967\n",
      "Valid stocks: 4651\n"
     ]
    }
   ],
   "source": [
    "dataSet = loadData()\n",
    "inputs = []\n",
    "answers = []"
   ]
  },
  {
   "cell_type": "code",
   "execution_count": 3,
   "id": "32bff669",
   "metadata": {},
   "outputs": [],
   "source": [
    "for stock in dataSet.values():\n",
    "    if stock.shape[0] <= 1:\n",
    "        continue\n",
    "    stockInputs = []\n",
    "    stockTargets = []\n",
    "    for index, row in stock.iterrows():\n",
    "        stockInputs.append(torch.tensor(np.asarray(row[1:6])))\n",
    "        stockTargets.append(torch.tensor(row[0]))\n",
    "    inputs = inputs + stockInputs[1:]\n",
    "    answers = answers + stockTargets[:-1]"
   ]
  },
  {
   "cell_type": "markdown",
   "id": "ae664bbb",
   "metadata": {},
   "source": [
    "### 1.1 Research data"
   ]
  },
  {
   "cell_type": "code",
   "execution_count": 4,
   "id": "3ed7f1be",
   "metadata": {},
   "outputs": [],
   "source": [
    "x1 = []\n",
    "x2 = []\n",
    "x3 = []\n",
    "x4 = []\n",
    "x5 = []\n",
    "y = []\n",
    "for inputPoint in inputs:\n",
    "    x1.append(float(inputPoint[0]))\n",
    "    x2.append(float(inputPoint[1]))\n",
    "    x3.append(float(inputPoint[2]))\n",
    "    x4.append(float(inputPoint[3]))\n",
    "    x5.append(float(inputPoint[4]))\n",
    "\n",
    "for answer in answers:\n",
    "    y.append(float(answer))"
   ]
  },
  {
   "cell_type": "markdown",
   "id": "d33d12f7",
   "metadata": {},
   "source": [
    "##### 1.1.1 visualization y"
   ]
  },
  {
   "cell_type": "code",
   "execution_count": 5,
   "id": "26078a9f",
   "metadata": {},
   "outputs": [
    {
     "data": {
      "text/plain": [
       "(array([   3.,   11.,   34.,   92.,  150.,  219.,  368.,  487.,  633.,\n",
       "         774.,  973., 1125., 1196., 1316., 1314., 1374., 1448., 1346.,\n",
       "        1277., 1415., 1328., 1290., 1265., 1268., 1173., 1122., 1045.,\n",
       "         936.,  835.,  728.,  699.,  592.,  561.,  478.,  404.,  381.,\n",
       "         300.,  223.,  100.,   33.]),\n",
       " array([-2.47487373, -2.3520561 , -2.22923847, -2.10642084, -1.9836032 ,\n",
       "        -1.86078557, -1.73796794, -1.61515031, -1.49233267, -1.36951504,\n",
       "        -1.24669741, -1.12387978, -1.00106214, -0.87824451, -0.75542688,\n",
       "        -0.63260925, -0.50979161, -0.38697398, -0.26415635, -0.14133872,\n",
       "        -0.01852108,  0.10429655,  0.22711418,  0.34993181,  0.47274945,\n",
       "         0.59556708,  0.71838471,  0.84120234,  0.96401998,  1.08683761,\n",
       "         1.20965524,  1.33247287,  1.45529051,  1.57810814,  1.70092577,\n",
       "         1.8237434 ,  1.94656104,  2.06937867,  2.1921963 ,  2.31501393,\n",
       "         2.43783157]),\n",
       " <BarContainer object of 40 artists>)"
      ]
     },
     "execution_count": 5,
     "metadata": {},
     "output_type": "execute_result"
    },
    {
     "data": {
      "image/png": "[encoded data removed]",
      "text/plain": [
       "<Figure size 432x288 with 1 Axes>"
      ]
     },
     "metadata": {
      "needs_background": "light"
     },
     "output_type": "display_data"
    }
   ],
   "source": [
    "plt.hist(y, bins = 40, facecolor = \"blue\", edgecolor=\"black\")"
   ]
  },
  {
   "cell_type": "markdown",
   "id": "cc147c29",
   "metadata": {},
   "source": [
    "#### 1.1.2 Visualization x1"
   ]
  },
  {
   "cell_type": "code",
   "execution_count": 6,
   "id": "3b394d06",
   "metadata": {},
   "outputs": [
    {
     "data": {
      "text/plain": [
       "(array([1.000e+00, 4.000e+00, 1.200e+01, 2.300e+01, 5.100e+01, 8.900e+01,\n",
       "        1.710e+02, 3.180e+02, 4.700e+02, 7.680e+02, 1.185e+03, 1.480e+03,\n",
       "        1.850e+03, 1.988e+03, 2.029e+03, 2.071e+03, 1.891e+03, 1.602e+03,\n",
       "        1.502e+03, 1.334e+03, 1.179e+03, 1.075e+03, 9.720e+02, 8.090e+02,\n",
       "        7.370e+02, 7.360e+02, 6.130e+02, 6.110e+02, 6.070e+02, 5.220e+02,\n",
       "        4.660e+02, 5.110e+02, 4.500e+02, 4.340e+02, 4.150e+02, 3.770e+02,\n",
       "        3.640e+02, 3.340e+02, 1.900e+02, 7.500e+01]),\n",
       " array([-2.38187776, -2.26048181, -2.13908587, -2.01768992, -1.89629398,\n",
       "        -1.77489804, -1.65350209, -1.53210615, -1.41071021, -1.28931426,\n",
       "        -1.16791832, -1.04652238, -0.92512643, -0.80373049, -0.68233455,\n",
       "        -0.5609386 , -0.43954266, -0.31814672, -0.19675077, -0.07535483,\n",
       "         0.04604112,  0.16743706,  0.288833  ,  0.41022895,  0.53162489,\n",
       "         0.65302083,  0.77441678,  0.89581272,  1.01720866,  1.13860461,\n",
       "         1.26000055,  1.38139649,  1.50279244,  1.62418838,  1.74558432,\n",
       "         1.86698027,  1.98837621,  2.10977216,  2.2311681 ,  2.35256404,\n",
       "         2.47395999]),\n",
       " <BarContainer object of 40 artists>)"
      ]
     },
     "execution_count": 6,
     "metadata": {},
     "output_type": "execute_result"
    },
    {
     "data": {
      "image/png": "[encoded data removed]",
      "text/plain": [
       "<Figure size 432x288 with 1 Axes>"
      ]
     },
     "metadata": {
      "needs_background": "light"
     },
     "output_type": "display_data"
    }
   ],
   "source": [
    "plt.hist(x1, bins = 40, facecolor = \"blue\", edgecolor=\"black\")"
   ]
  },
  {
   "cell_type": "markdown",
   "id": "18ce941e",
   "metadata": {},
   "source": [
    "#### 1.1.2 Visualization x2"
   ]
  },
  {
   "cell_type": "code",
   "execution_count": 7,
   "id": "f43554cf",
   "metadata": {},
   "outputs": [
    {
     "data": {
      "text/plain": [
       "(array([2.000e+00, 6.000e+00, 1.400e+01, 2.700e+01, 5.600e+01, 9.200e+01,\n",
       "        1.640e+02, 3.150e+02, 5.050e+02, 7.690e+02, 1.155e+03, 1.489e+03,\n",
       "        1.916e+03, 2.367e+03, 2.489e+03, 2.220e+03, 1.835e+03, 1.527e+03,\n",
       "        1.296e+03, 1.179e+03, 1.010e+03, 9.380e+02, 8.130e+02, 6.860e+02,\n",
       "        7.060e+02, 6.350e+02, 6.210e+02, 5.570e+02, 5.230e+02, 5.050e+02,\n",
       "        4.680e+02, 4.670e+02, 4.350e+02, 4.450e+02, 4.200e+02, 4.300e+02,\n",
       "        4.270e+02, 3.970e+02, 2.720e+02, 1.380e+02]),\n",
       " array([-2.29695298, -2.17767887, -2.05840475, -1.93913064, -1.81985653,\n",
       "        -1.70058241, -1.5813083 , -1.46203419, -1.34276007, -1.22348596,\n",
       "        -1.10421185, -0.98493773, -0.86566362, -0.74638951, -0.62711539,\n",
       "        -0.50784128, -0.38856717, -0.26929305, -0.15001894, -0.03074483,\n",
       "         0.08852929,  0.2078034 ,  0.32707751,  0.44635163,  0.56562574,\n",
       "         0.68489985,  0.80417397,  0.92344808,  1.0427222 ,  1.16199631,\n",
       "         1.28127042,  1.40054454,  1.51981865,  1.63909276,  1.75836688,\n",
       "         1.87764099,  1.9969151 ,  2.11618922,  2.23546333,  2.35473744,\n",
       "         2.47401156]),\n",
       " <BarContainer object of 40 artists>)"
      ]
     },
     "execution_count": 7,
     "metadata": {},
     "output_type": "execute_result"
    },
    {
     "data": {
      "image/png": "[encoded data removed]",
      "text/plain": [
       "<Figure size 432x288 with 1 Axes>"
      ]
     },
     "metadata": {
      "needs_background": "light"
     },
     "output_type": "display_data"
    }
   ],
   "source": [
    "plt.hist(x2, bins = 40, facecolor = \"blue\", edgecolor=\"black\")"
   ]
  },
  {
   "cell_type": "markdown",
   "id": "78acc9f2",
   "metadata": {},
   "source": [
    "#### 1.1.2 Visualization x3"
   ]
  },
  {
   "cell_type": "code",
   "execution_count": 8,
   "id": "2e7b7763",
   "metadata": {},
   "outputs": [
    {
     "data": {
      "text/plain": [
       "(array([  11.,   34.,   80.,  137.,  234.,  323.,  415.,  562.,  643.,\n",
       "         810.,  879., 1030., 1141., 1136., 1194., 1287., 1314., 1338.,\n",
       "        1387., 1388., 1333., 1428., 1357., 1317., 1189., 1168., 1110.,\n",
       "        1048.,  939.,  864.,  792.,  623.,  537.,  403.,  332.,  245.,\n",
       "         148.,   88.,   39.,   13.]),\n",
       " array([-2.44613137e+00, -2.32386428e+00, -2.20159720e+00, -2.07933011e+00,\n",
       "        -1.95706303e+00, -1.83479594e+00, -1.71252886e+00, -1.59026177e+00,\n",
       "        -1.46799469e+00, -1.34572760e+00, -1.22346051e+00, -1.10119343e+00,\n",
       "        -9.78926344e-01, -8.56659259e-01, -7.34392173e-01, -6.12125088e-01,\n",
       "        -4.89858003e-01, -3.67590917e-01, -2.45323832e-01, -1.23056747e-01,\n",
       "        -7.89661334e-04,  1.21477424e-01,  2.43744509e-01,  3.66011595e-01,\n",
       "         4.88278680e-01,  6.10545765e-01,  7.32812851e-01,  8.55079936e-01,\n",
       "         9.77347022e-01,  1.09961411e+00,  1.22188119e+00,  1.34414828e+00,\n",
       "         1.46641536e+00,  1.58868245e+00,  1.71094953e+00,  1.83321662e+00,\n",
       "         1.95548370e+00,  2.07775079e+00,  2.20001788e+00,  2.32228496e+00,\n",
       "         2.44455205e+00]),\n",
       " <BarContainer object of 40 artists>)"
      ]
     },
     "execution_count": 8,
     "metadata": {},
     "output_type": "execute_result"
    },
    {
     "data": {
      "image/png": "[encoded data removed]",
      "text/plain": [
       "<Figure size 432x288 with 1 Axes>"
      ]
     },
     "metadata": {
      "needs_background": "light"
     },
     "output_type": "display_data"
    }
   ],
   "source": [
    "plt.hist(x3, bins = 40, facecolor = \"blue\", edgecolor=\"black\")"
   ]
  },
  {
   "cell_type": "markdown",
   "id": "c16b4621",
   "metadata": {},
   "source": [
    "#### 1.1.2 Visualization x4"
   ]
  },
  {
   "cell_type": "code",
   "execution_count": 9,
   "id": "59b52edc",
   "metadata": {},
   "outputs": [
    {
     "data": {
      "text/plain": [
       "(array([   7.,   16.,   36.,   57.,  123.,  221.,  353.,  520.,  785.,\n",
       "        1081., 1403., 1681., 1931., 1923., 2010., 1843., 1637., 1517.,\n",
       "        1296., 1155.,  992.,  916.,  855.,  748.,  711.,  694.,  574.,\n",
       "         555.,  580.,  499.,  454.,  509.,  434.,  409.,  410.,  358.,\n",
       "         367.,  319.,  245.,   92.]),\n",
       " array([-2.20604312, -2.08903078, -1.97201844, -1.8550061 , -1.73799376,\n",
       "        -1.62098142, -1.50396908, -1.38695674, -1.2699444 , -1.15293206,\n",
       "        -1.03591972, -0.91890738, -0.80189504, -0.6848827 , -0.56787036,\n",
       "        -0.45085802, -0.33384568, -0.21683334, -0.099821  ,  0.01719134,\n",
       "         0.13420368,  0.25121602,  0.36822836,  0.4852407 ,  0.60225304,\n",
       "         0.71926538,  0.83627772,  0.95329006,  1.0703024 ,  1.18731474,\n",
       "         1.30432708,  1.42133942,  1.53835176,  1.6553641 ,  1.77237644,\n",
       "         1.88938878,  2.00640112,  2.12341346,  2.2404258 ,  2.35743814,\n",
       "         2.47445048]),\n",
       " <BarContainer object of 40 artists>)"
      ]
     },
     "execution_count": 9,
     "metadata": {},
     "output_type": "execute_result"
    },
    {
     "data": {
      "image/png": "[encoded data removed]",
      "text/plain": [
       "<Figure size 432x288 with 1 Axes>"
      ]
     },
     "metadata": {
      "needs_background": "light"
     },
     "output_type": "display_data"
    }
   ],
   "source": [
    "plt.hist(x4, bins = 40, facecolor = \"blue\", edgecolor=\"black\")"
   ]
  },
  {
   "cell_type": "markdown",
   "id": "f6b5474e",
   "metadata": {},
   "source": [
    "#### 1.1.2 Visualization x5"
   ]
  },
  {
   "cell_type": "code",
   "execution_count": 10,
   "id": "b6ca41ac",
   "metadata": {},
   "outputs": [
    {
     "data": {
      "text/plain": [
       "(array([   6.,   24.,   49.,   83.,  158.,  230.,  335.,  453.,  609.,\n",
       "         829.,  968., 1113., 1296., 1417., 1415., 1408., 1298., 1242.,\n",
       "        1177., 1169., 1192., 1184., 1210., 1209., 1305., 1256., 1314.,\n",
       "        1192., 1049.,  991.,  823.,  649.,  521.,  394.,  279.,  195.,\n",
       "         132.,   90.,   39.,   13.]),\n",
       " array([-2.40276363, -2.2815672 , -2.16037077, -2.03917435, -1.91797792,\n",
       "        -1.7967815 , -1.67558507, -1.55438864, -1.43319222, -1.31199579,\n",
       "        -1.19079937, -1.06960294, -0.94840651, -0.82721009, -0.70601366,\n",
       "        -0.58481723, -0.46362081, -0.34242438, -0.22122796, -0.10003153,\n",
       "         0.0211649 ,  0.14236132,  0.26355775,  0.38475417,  0.5059506 ,\n",
       "         0.62714703,  0.74834345,  0.86953988,  0.99073631,  1.11193273,\n",
       "         1.23312916,  1.35432558,  1.47552201,  1.59671844,  1.71791486,\n",
       "         1.83911129,  1.96030771,  2.08150414,  2.20270057,  2.32389699,\n",
       "         2.44509342]),\n",
       " <BarContainer object of 40 artists>)"
      ]
     },
     "execution_count": 10,
     "metadata": {},
     "output_type": "execute_result"
    },
    {
     "data": {
      "image/png": "[encoded data removed]",
      "text/plain": [
       "<Figure size 432x288 with 1 Axes>"
      ]
     },
     "metadata": {
      "needs_background": "light"
     },
     "output_type": "display_data"
    }
   ],
   "source": [
    "plt.hist(x5, bins = 40, facecolor = \"blue\", edgecolor=\"black\")"
   ]
  },
  {
   "cell_type": "markdown",
   "id": "5e41f0d1",
   "metadata": {},
   "source": [
    "## 2. Split dataset into train and test"
   ]
  },
  {
   "cell_type": "code",
   "execution_count": 17,
   "id": "99f2e7d1",
   "metadata": {},
   "outputs": [],
   "source": [
    "testIndexs = random.sample(range(0, len(answers) - 1), 1000)\n",
    "train = []\n",
    "trainAns = []\n",
    "test = []\n",
    "testAns = []\n",
    "for i in range(len(answers)):\n",
    "    if i not in testIndexs:\n",
    "        train.append(inputs[i])\n",
    "        trainAns.append(answers[i])\n",
    "    else:\n",
    "        test.append(inputs[i])\n",
    "        testAns.append(answers[i])\n",
    "train = torch.stack(train).float()\n",
    "trainAns = np.reshape(torch.stack(trainAns).float(), (-1, 1))\n",
    "test = torch.stack(test).float()\n",
    "testAns = np.reshape(torch.stack(testAns).float(), (-1, 1))"
   ]
  },
  {
   "cell_type": "markdown",
   "id": "13745902",
   "metadata": {},
   "source": [
    "## 3. Set up model and training..."
   ]
  },
  {
   "cell_type": "code",
   "execution_count": 23,
   "id": "1f65e40e",
   "metadata": {},
   "outputs": [],
   "source": [
    "model = Model()"
   ]
  },
  {
   "cell_type": "code",
   "execution_count": 24,
   "id": "268ac7d8",
   "metadata": {},
   "outputs": [
    {
     "name": "stdout",
     "output_type": "stream",
     "text": [
      "Epoch 0, loss 1.0224350690841675, predict 0.7965384721755981\n",
      "Epoch 1, loss 0.9478549957275391, predict 0.7821735739707947\n",
      "Epoch 2, loss 0.9128565788269043, predict 0.7740880250930786\n",
      "Epoch 3, loss 0.8932892680168152, predict 0.7684271335601807\n",
      "Epoch 4, loss 0.8808392286300659, predict 0.7646419405937195\n",
      "Epoch 5, loss 0.8722558617591858, predict 0.7619291543960571\n",
      "Epoch 6, loss 0.8660391569137573, predict 0.759985089302063\n",
      "Epoch 7, loss 0.8613788485527039, predict 0.7584852576255798\n",
      "Epoch 8, loss 0.8577839732170105, predict 0.7573668360710144\n",
      "Epoch 9, loss 0.854936957359314, predict 0.7564893364906311\n",
      "Epoch 10, loss 0.8526250123977661, predict 0.7557772397994995\n",
      "Epoch 11, loss 0.8507028818130493, predict 0.7551652789115906\n",
      "Epoch 12, loss 0.8490700721740723, predict 0.7546342015266418\n",
      "Epoch 13, loss 0.8476564884185791, predict 0.7541688084602356\n",
      "Epoch 14, loss 0.8464127779006958, predict 0.7537361979484558\n",
      "Epoch 15, loss 0.8453035354614258, predict 0.753340482711792\n",
      "Epoch 16, loss 0.8443031907081604, predict 0.7529862523078918\n",
      "Epoch 17, loss 0.843393087387085, predict 0.7526718974113464\n",
      "Epoch 18, loss 0.8425590991973877, predict 0.7523709535598755\n",
      "Epoch 19, loss 0.8417905569076538, predict 0.7521001696586609\n",
      "Epoch 20, loss 0.84107905626297, predict 0.7518483400344849\n",
      "Epoch 21, loss 0.8404180407524109, predict 0.7516113519668579\n",
      "Epoch 22, loss 0.8398020267486572, predict 0.7513864636421204\n",
      "Epoch 23, loss 0.839226484298706, predict 0.751167893409729\n",
      "Epoch 24, loss 0.8386878967285156, predict 0.7509573698043823\n",
      "Epoch 25, loss 0.838182806968689, predict 0.7507584095001221\n",
      "Epoch 26, loss 0.8377084136009216, predict 0.7505757808685303\n",
      "Epoch 27, loss 0.8372623920440674, predict 0.7504097819328308\n",
      "Epoch 28, loss 0.8368423581123352, predict 0.7502526044845581\n",
      "Epoch 29, loss 0.8364465236663818, predict 0.7501012086868286\n",
      "Epoch 30, loss 0.8360730409622192, predict 0.7499546408653259\n",
      "Epoch 31, loss 0.8357202410697937, predict 0.7498126029968262\n",
      "Epoch 32, loss 0.8353869318962097, predict 0.7496869564056396\n",
      "Epoch 33, loss 0.8350715041160583, predict 0.74956876039505\n",
      "Epoch 34, loss 0.834773063659668, predict 0.749461829662323\n",
      "Epoch 35, loss 0.834490180015564, predict 0.74936443567276\n",
      "Epoch 36, loss 0.834222137928009, predict 0.7492719292640686\n",
      "Epoch 37, loss 0.8339678049087524, predict 0.7491822838783264\n",
      "Epoch 38, loss 0.8337263464927673, predict 0.7490955591201782\n",
      "Epoch 39, loss 0.8334971070289612, predict 0.7490125298500061\n",
      "Epoch 40, loss 0.8332793116569519, predict 0.7489379644393921\n",
      "Epoch 41, loss 0.8330721855163574, predict 0.7488665580749512\n",
      "Epoch 42, loss 0.8328750729560852, predict 0.7488011121749878\n",
      "Epoch 43, loss 0.8326876759529114, predict 0.7487377524375916\n",
      "Epoch 44, loss 0.8325091600418091, predict 0.748676598072052\n",
      "Epoch 45, loss 0.8323391675949097, predict 0.7486174702644348\n",
      "Epoch 46, loss 0.8321771025657654, predict 0.7485604882240295\n",
      "Epoch 47, loss 0.8320227265357971, predict 0.7485052347183228\n",
      "Epoch 48, loss 0.8318755030632019, predict 0.7484520077705383\n",
      "Epoch 49, loss 0.8317351341247559, predict 0.7484020590782166\n",
      "Epoch 50, loss 0.8316011428833008, predict 0.7483547329902649\n",
      "Epoch 51, loss 0.8314732909202576, predict 0.7483096718788147\n",
      "Epoch 52, loss 0.8313512206077576, predict 0.7482675313949585\n",
      "Epoch 53, loss 0.8312346935272217, predict 0.7482267618179321\n",
      "Epoch 54, loss 0.8311233520507812, predict 0.7481874227523804\n",
      "Epoch 55, loss 0.831017017364502, predict 0.7481493949890137\n",
      "Epoch 56, loss 0.8309155106544495, predict 0.7481134533882141\n",
      "Epoch 57, loss 0.8308182954788208, predict 0.7480790615081787\n",
      "Epoch 58, loss 0.8307255506515503, predict 0.7480457425117493\n",
      "Epoch 59, loss 0.830636739730835, predict 0.7480134963989258\n",
      "Epoch 60, loss 0.8305519223213196, predict 0.7479822635650635\n",
      "Epoch 61, loss 0.8304708003997803, predict 0.7479543089866638\n",
      "Epoch 62, loss 0.8303931355476379, predict 0.7479296326637268\n",
      "Epoch 63, loss 0.830318808555603, predict 0.7479057908058167\n",
      "Epoch 64, loss 0.8302478194236755, predict 0.7478825449943542\n",
      "Epoch 65, loss 0.8301798701286316, predict 0.7478610277175903\n",
      "Epoch 66, loss 0.8301147818565369, predict 0.7478410601615906\n",
      "Epoch 67, loss 0.8300525546073914, predict 0.7478216886520386\n",
      "Epoch 68, loss 0.8299928307533264, predict 0.7478029727935791\n",
      "Epoch 69, loss 0.8299357295036316, predict 0.7477850317955017\n",
      "Epoch 70, loss 0.8298812508583069, predict 0.7477684617042542\n",
      "Epoch 71, loss 0.8298289775848389, predict 0.7477521896362305\n",
      "Epoch 72, loss 0.8297788500785828, predict 0.7477365136146545\n",
      "Epoch 73, loss 0.8297309279441833, predict 0.7477225661277771\n",
      "Epoch 74, loss 0.8296849727630615, predict 0.747710108757019\n",
      "Epoch 75, loss 0.8296411037445068, predict 0.7476979494094849\n",
      "Epoch 76, loss 0.8295989632606506, predict 0.7476882934570312\n",
      "Epoch 77, loss 0.8295586109161377, predict 0.7476798295974731\n",
      "Epoch 78, loss 0.829520046710968, predict 0.7476715445518494\n",
      "Epoch 79, loss 0.8294829726219177, predict 0.7476636171340942\n",
      "Epoch 80, loss 0.8294474482536316, predict 0.747655987739563\n",
      "Epoch 81, loss 0.8294135332107544, predict 0.7476489543914795\n",
      "Epoch 82, loss 0.8293810486793518, predict 0.7476423978805542\n",
      "Epoch 83, loss 0.8293498754501343, predict 0.7476359605789185\n",
      "Epoch 84, loss 0.8293200731277466, predict 0.7476349472999573\n",
      "Epoch 85, loss 0.8292914628982544, predict 0.7476341128349304\n",
      "Epoch 86, loss 0.8292640447616577, predict 0.7476332783699036\n",
      "Epoch 87, loss 0.8292377591133118, predict 0.7476325631141663\n",
      "Epoch 88, loss 0.8292125463485718, predict 0.7476319074630737\n",
      "Epoch 89, loss 0.8291884660720825, predict 0.7476313710212708\n",
      "Epoch 90, loss 0.8291653990745544, predict 0.7476308345794678\n",
      "Epoch 91, loss 0.8291432857513428, predict 0.7476316094398499\n",
      "Epoch 92, loss 0.8291220664978027, predict 0.7476323246955872\n",
      "Epoch 93, loss 0.8291017413139343, predict 0.747633159160614\n",
      "Epoch 94, loss 0.8290822505950928, predict 0.747634768486023\n",
      "Epoch 95, loss 0.8290635943412781, predict 0.7476367354393005\n",
      "Epoch 96, loss 0.8290456533432007, predict 0.7476398348808289\n",
      "Epoch 97, loss 0.8290286064147949, predict 0.747643232345581\n",
      "Epoch 98, loss 0.8290121555328369, predict 0.7476465702056885\n",
      "Epoch 99, loss 0.8289963603019714, predict 0.7476497888565063\n"
     ]
    }
   ],
   "source": [
    "diffs = []\n",
    "for epoch in range(100):\n",
    "    model.trainAnEpoch(train, trainAns)\n",
    "    predict = model.predict(test)\n",
    "    diff = torch.abs(testAns-predict).mean().item()\n",
    "    diffs.append(diff)\n",
    "    print(\"Epoch {}, loss {}, predict {}\".format(epoch, model.loss[-1], diffs[-1]))"
   ]
  },
  {
   "cell_type": "markdown",
   "id": "6e5ba562",
   "metadata": {},
   "source": [
    "## 4. Visualization loss"
   ]
  },
  {
   "cell_type": "code",
   "execution_count": null,
   "id": "62c9df18",
   "metadata": {},
   "outputs": [],
   "source": [
    "plt.plot(model.loss)\n",
    "plt.ylabel(\"loss\")\n",
    "plt.xlabel(\"points\")\n",
    "plt.show()"
   ]
  },
  {
   "cell_type": "code",
   "execution_count": null,
   "id": "3d060f8b",
   "metadata": {},
   "outputs": [],
   "source": [
    "plt.plot(diffs, color=\"red\")\n",
    "plt.ylabel(\"diff\")\n",
    "plt.xlabel(\"points\")\n",
    "plt.show()"
   ]
  },
  {
   "cell_type": "markdown",
   "id": "560e6c61",
   "metadata": {},
   "source": [
    "## 5. test"
   ]
  },
  {
   "cell_type": "markdown",
   "id": "87377f55",
   "metadata": {},
   "source": [
    "### 5.1 Sampling"
   ]
  },
  {
   "cell_type": "code",
   "execution_count": null,
   "id": "22f78bb7",
   "metadata": {},
   "outputs": [],
   "source": [
    "predict = model.predict(test)\n",
    "plt.plot(torch.detach(predict[:300]), color=\"blue\", linestyle='dashed', label=\"predict\")\n",
    "plt.plot(testAns[:300], color=\"red\", label=\"answer\")\n",
    "plt.ylabel(\"Ups and downs\")\n",
    "plt.xlabel(\"points\")\n",
    "plt.show()"
   ]
  },
  {
   "cell_type": "code",
   "execution_count": null,
   "id": "cf49edd2",
   "metadata": {},
   "outputs": [],
   "source": [
    "plt.plot(torch.detach(testAns-predict)[:300], color=\"green\")"
   ]
  },
  {
   "cell_type": "code",
   "execution_count": null,
   "id": "96803410",
   "metadata": {},
   "outputs": [],
   "source": [
    "torch.abs(testAns-predict).mean()"
   ]
  },
  {
   "cell_type": "markdown",
   "id": "124a82f7",
   "metadata": {},
   "source": [
    "### 4.2 Average test"
   ]
  },
  {
   "cell_type": "code",
   "execution_count": null,
   "id": "3a830eac",
   "metadata": {},
   "outputs": [],
   "source": []
  },
  {
   "cell_type": "markdown",
   "id": "fa00242b",
   "metadata": {},
   "source": [
    "## 5. Model"
   ]
  },
  {
   "cell_type": "code",
   "execution_count": 27,
   "id": "8fe1268f",
   "metadata": {
    "scrolled": true
   },
   "outputs": [
    {
     "data": {
      "text/plain": [
       "[Parameter containing:\n",
       " tensor([[ 0.1519,  0.2007,  0.0461, -0.2875,  0.1848]], requires_grad=True),\n",
       " Parameter containing:\n",
       " tensor([-0.0026], requires_grad=True)]"
      ]
     },
     "execution_count": 27,
     "metadata": {},
     "output_type": "execute_result"
    }
   ],
   "source": [
    "list(model.model.parameters())"
   ]
  },
  {
   "cell_type": "code",
   "execution_count": null,
   "id": "41ffcd4e",
   "metadata": {},
   "outputs": [],
   "source": []
  }
 ],
 "metadata": {
  "kernelspec": {
   "display_name": "Python 3 (ipykernel)",
   "language": "python",
   "name": "python3"
  },
  "language_info": {
   "codemirror_mode": {
    "name": "ipython",
    "version": 3
   },
   "file_extension": ".py",
   "mimetype": "text/x-python",
   "name": "python",
   "nbconvert_exporter": "python",
   "pygments_lexer": "ipython3",
   "version": "3.9.7"
  }
 },
 "nbformat": 4,
 "nbformat_minor": 5
}
