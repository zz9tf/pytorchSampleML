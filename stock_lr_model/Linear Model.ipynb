{
 "cells": [
  {
   "cell_type": "code",
   "execution_count": 2,
   "id": "ac2c5fe6",
   "metadata": {},
   "outputs": [],
   "source": [
    "import os\n",
    "import random\n",
    "\n",
    "import numpy as np\n",
    "import pandas as pd\n",
    "import torch\n",
    "import matplotlib.pyplot as plt\n",
    "from scipy.stats import ttest_ind\n",
    "\n",
    "class LinearRegression(torch.nn.Module):\n",
    "    def __init__(self):\n",
    "        super(LinearRegression, self).__init__()\n",
    "        self.linear1 = torch.nn.Linear(5, 1)\n",
    "\n",
    "    def forward(self, x):\n",
    "        x = self.linear1(x)\n",
    "        return x\n",
    "    \n",
    "    \n",
    "class Model():\n",
    "    def __init__(self, model):\n",
    "        self.model = model\n",
    "        self.optimizer = torch.optim.SGD(self.model.parameters(),\n",
    "                                         lr=1e-2)\n",
    "        self.criterion = torch.nn.MSELoss()\n",
    "        self.loss = []\n",
    "        print(model)\n",
    "\n",
    "    def trainAnEpoch(self, inputs, answers):\n",
    "        outputs = self.model(inputs)\n",
    "        loss = self.criterion(outputs, answers)\n",
    "        loss.backward()\n",
    "        self.optimizer.step()\n",
    "        self.optimizer.zero_grad()\n",
    "        self.loss.append(float(loss))\n",
    "\n",
    "    def predict(self, inputs):\n",
    "        return self.model(inputs)\n",
    "    \n",
    "def loadData():\n",
    "    dataSet = {}\n",
    "    validPoints = 0\n",
    "    totalPoints = 0\n",
    "    print(\"Detected stocks: \" + str(len(os.listdir(\"./data/stocks\"))))\n",
    "    for fileName in os.listdir(\"./data/stocks\"):\n",
    "        dataSet[fileName] = pd.read_csv(\"./data/stocks/\" + fileName,\n",
    "                                        sep=\",\",\n",
    "                                        header=0,\n",
    "                                        usecols=[4, 13, 14, 15, 16, 17],\n",
    "                                        encoding=\"gbk\",\n",
    "                                        dtype=\"float64\"\n",
    "                                        ).dropna()\n",
    "        totalPoints += dataSet[fileName].shape[0]\n",
    "#         for i in range(1, dataSet[fileName].shape[1]):\n",
    "#             dataSet[fileName].iloc[:, i] = dataSet[fileName].iloc[:, i] - dataSet[fileName].iloc[:, i].mean()\n",
    "#             dataSet[fileName].iloc[:, i] = dataSet[fileName].iloc[:, i] / dataSet[fileName].iloc[:, i].std()\n",
    "        if dataSet[fileName].empty:\n",
    "            # print(\"Warning: problematic stock dataset \" + fileName)\n",
    "            del dataSet[fileName]\n",
    "        else:\n",
    "            \n",
    "            validPoints += dataSet[fileName].shape[0]\n",
    "    print(\"Total data points: \" + str(totalPoints))\n",
    "    print(\"Valid data points: \" + str(validPoints))\n",
    "    print(\"Valid stocks: \" + str(len(dataSet.keys())))\n",
    "\n",
    "    return dataSet"
   ]
  },
  {
   "cell_type": "markdown",
   "id": "22afc9e3",
   "metadata": {},
   "source": [
    "## 1. Get dataset"
   ]
  },
  {
   "cell_type": "code",
   "execution_count": 3,
   "id": "604c3fa8",
   "metadata": {},
   "outputs": [
    {
     "name": "stdout",
     "output_type": "stream",
     "text": [
      "Detected stocks: 4702\n",
      "Total data points: 35232\n",
      "Valid data points: 35232\n",
      "Valid stocks: 4690\n"
     ]
    }
   ],
   "source": [
    "dataSet = loadData()"
   ]
  },
  {
   "cell_type": "code",
   "execution_count": 14,
   "id": "9d5f1312",
   "metadata": {},
   "outputs": [
    {
     "name": "stdout",
     "output_type": "stream",
     "text": [
      "30542\n",
      "30542\n"
     ]
    }
   ],
   "source": [
    "inputs = []\n",
    "answers = []\n",
    "\n",
    "for stock in dataSet.values():\n",
    "    stockInputs = []\n",
    "    stockTargets = []\n",
    "    if stock.shape[0] <= 1:\n",
    "        continue\n",
    "    for index, row in stock.iterrows():\n",
    "        stockInputs.append(torch.tensor(np.asarray(row[1:6])))\n",
    "        stockTargets.append(torch.tensor(row[0]))\n",
    "    inputs = inputs + stockInputs[1:]\n",
    "    answers = answers + stockTargets[:-1]\n",
    "print(len(inputs))\n",
    "print(len(answers))"
   ]
  },
  {
   "cell_type": "code",
   "execution_count": 11,
   "id": "e58269a2",
   "metadata": {},
   "outputs": [],
   "source": [
    "inputs = torch.stack(inputs)\n",
    "answers = torch.stack(answers).reshape(-1,1)"
   ]
  },
  {
   "cell_type": "code",
   "execution_count": 12,
   "id": "25f1433c",
   "metadata": {},
   "outputs": [
    {
     "data": {
      "text/plain": [
       "tensor([[ 8.9639e-04,  8.6545e-01, -4.0066e-02,  1.1655e-02,  4.8644e+00],\n",
       "        [ 7.1400e-04,  6.8936e-01,  3.8344e-01,  8.1301e-03,  4.8418e+00],\n",
       "        [ 6.1929e-04,  6.9977e-01, -2.6249e-01,  4.6674e-03,  4.8418e+00],\n",
       "        ...,\n",
       "        [ 4.8711e-03,  1.3007e+00,  1.6288e-01,  1.6691e-02,  1.8103e+01],\n",
       "        [ 4.4268e-03,  1.0277e+00,  9.3026e-01,  4.0495e-02,  1.8569e+01],\n",
       "        [ 1.1584e-02,  2.6731e+00,  7.3699e-02,  6.0353e-02,  1.9655e+01]],\n",
       "       dtype=torch.float64)"
      ]
     },
     "execution_count": 12,
     "metadata": {},
     "output_type": "execute_result"
    }
   ],
   "source": [
    "inputs"
   ]
  },
  {
   "cell_type": "code",
   "execution_count": 13,
   "id": "1c079215",
   "metadata": {},
   "outputs": [
    {
     "data": {
      "text/plain": [
       "tensor([[ 0.0023],\n",
       "        [ 0.0035],\n",
       "        [-0.0046],\n",
       "        ...,\n",
       "        [-0.0253],\n",
       "        [ 0.0014],\n",
       "        [ 0.0262]], dtype=torch.float64)"
      ]
     },
     "execution_count": 13,
     "metadata": {},
     "output_type": "execute_result"
    }
   ],
   "source": [
    "answers"
   ]
  },
  {
   "cell_type": "code",
   "execution_count": 6,
   "id": "06e79517",
   "metadata": {},
   "outputs": [
    {
     "name": "stdout",
     "output_type": "stream",
     "text": [
      "min: 0.0\n",
      "max: 0.78178930534733\n",
      "min: 0.0\n",
      "max: 18.329095033429\n",
      "min: -1.0\n",
      "max: 2.0\n",
      "min: 0.0\n",
      "max: 0.28878923766816\n",
      "min: -39400.0\n",
      "max: 44680.0\n"
     ]
    }
   ],
   "source": [
    "normInputs = []\n",
    "for i in range(inputs.shape[1]):\n",
    "    normInputs.append(inputs[:, i])\n",
    "    print(\"min: {}\".format(normInputs[-1].min()))\n",
    "    normInputs[-1] = normInputs[-1]-normInputs[-1].min()\n",
    "    print(\"max: {}\".format(normInputs[-1].max()))\n",
    "    normInputs[-1] = normInputs[-1]/normInputs[-1].max()\n",
    "inputs = torch.stack(normInputs,dim=1)"
   ]
  },
  {
   "cell_type": "markdown",
   "id": "8e17208d",
   "metadata": {},
   "source": [
    "### 1.1 Research data"
   ]
  },
  {
   "cell_type": "code",
   "execution_count": 85,
   "id": "395446b8",
   "metadata": {},
   "outputs": [],
   "source": [
    "x1 = []\n",
    "x2 = []\n",
    "x3 = []\n",
    "x4 = []\n",
    "x5 = []\n",
    "y = []\n",
    "for i in range(len(inputs)):\n",
    "    x1.append(float(inputs[i, 0]))\n",
    "    x2.append(float(inputs[i, 1]))\n",
    "    x3.append(float(inputs[i, 2])**4)\n",
    "    x4.append(float(inputs[i, 3]))\n",
    "    x5.append(float(inputs[i, 4])**2)\n",
    "\n",
    "for i in range(answers.shape[0]):\n",
    "    y.append(float(answers[i, 0]))"
   ]
  },
  {
   "cell_type": "markdown",
   "id": "74899d59",
   "metadata": {},
   "source": [
    "#### P-value"
   ]
  },
  {
   "cell_type": "code",
   "execution_count": 86,
   "id": "178fc924",
   "metadata": {},
   "outputs": [
    {
     "data": {
      "text/plain": [
       "Ttest_indResult(statistic=-87.23052246889763, pvalue=0.0)"
      ]
     },
     "execution_count": 86,
     "metadata": {},
     "output_type": "execute_result"
    }
   ],
   "source": [
    "ttest_ind(y, x1)"
   ]
  },
  {
   "cell_type": "code",
   "execution_count": 87,
   "id": "5a32ec0e",
   "metadata": {},
   "outputs": [
    {
     "data": {
      "text/plain": [
       "Ttest_indResult(statistic=-235.69070363822078, pvalue=0.0)"
      ]
     },
     "execution_count": 87,
     "metadata": {},
     "output_type": "execute_result"
    }
   ],
   "source": [
    "ttest_ind(y, x2)"
   ]
  },
  {
   "cell_type": "code",
   "execution_count": 88,
   "id": "ebbcfb53",
   "metadata": {},
   "outputs": [
    {
     "data": {
      "text/plain": [
       "Ttest_indResult(statistic=-65.15370224301905, pvalue=0.0)"
      ]
     },
     "execution_count": 88,
     "metadata": {},
     "output_type": "execute_result"
    }
   ],
   "source": [
    "ttest_ind(y, x3)"
   ]
  },
  {
   "cell_type": "code",
   "execution_count": 89,
   "id": "60b4faa7",
   "metadata": {},
   "outputs": [
    {
     "data": {
      "text/plain": [
       "Ttest_indResult(statistic=-164.758796346903, pvalue=0.0)"
      ]
     },
     "execution_count": 89,
     "metadata": {},
     "output_type": "execute_result"
    }
   ],
   "source": [
    "ttest_ind(y, x4)"
   ]
  },
  {
   "cell_type": "code",
   "execution_count": 90,
   "id": "35348619",
   "metadata": {},
   "outputs": [
    {
     "data": {
      "text/plain": [
       "Ttest_indResult(statistic=-3.5705338483408275, pvalue=0.0003565328062723153)"
      ]
     },
     "execution_count": 90,
     "metadata": {},
     "output_type": "execute_result"
    }
   ],
   "source": [
    "ttest_ind(y, x5)"
   ]
  },
  {
   "cell_type": "markdown",
   "id": "a9b7fd15",
   "metadata": {},
   "source": [
    "#### var"
   ]
  },
  {
   "cell_type": "code",
   "execution_count": 94,
   "id": "5535f4d7",
   "metadata": {},
   "outputs": [],
   "source": [
    "total = torch.cat((inputs, answers), dim = 1).T"
   ]
  },
  {
   "cell_type": "code",
   "execution_count": 95,
   "id": "8e3b0459",
   "metadata": {},
   "outputs": [
    {
     "data": {
      "text/plain": [
       "tensor([[ 8.9639e-04,  7.1400e-04,  6.1929e-04,  ...,  4.8711e-03,\n",
       "          4.4268e-03,  1.1584e-02],\n",
       "        [ 8.6545e-01,  6.8936e-01,  6.9977e-01,  ...,  1.3007e+00,\n",
       "          1.0277e+00,  2.6731e+00],\n",
       "        [-4.0066e-02,  3.8344e-01, -2.6249e-01,  ...,  1.6288e-01,\n",
       "          9.3026e-01,  7.3699e-02],\n",
       "        [ 1.1655e-02,  8.1301e-03,  4.6674e-03,  ...,  1.6691e-02,\n",
       "          4.0495e-02,  6.0353e-02],\n",
       "        [ 4.8644e+00,  4.8418e+00,  4.8418e+00,  ...,  1.8103e+01,\n",
       "          1.8569e+01,  1.9655e+01],\n",
       "        [ 2.3360e-03,  3.4970e-03, -4.6460e-03,  ..., -2.5287e-02,\n",
       "          1.4310e-03,  2.6203e-02]], dtype=torch.float64)"
      ]
     },
     "execution_count": 95,
     "metadata": {},
     "output_type": "execute_result"
    }
   ],
   "source": [
    "total"
   ]
  },
  {
   "cell_type": "code",
   "execution_count": 96,
   "id": "a1b67cab",
   "metadata": {},
   "outputs": [
    {
     "data": {
      "text/plain": [
       "tensor([[ 1.0000,  0.3225,  0.0771,  0.5874,  0.0069,  0.2465],\n",
       "        [ 0.3225,  1.0000, -0.0199,  0.5196, -0.0082,  0.2629],\n",
       "        [ 0.0771, -0.0199,  1.0000,  0.0355,  0.0124,  0.0257],\n",
       "        [ 0.5874,  0.5196,  0.0355,  1.0000,  0.0014,  0.2162],\n",
       "        [ 0.0069, -0.0082,  0.0124,  0.0014,  1.0000, -0.0058],\n",
       "        [ 0.2465,  0.2629,  0.0257,  0.2162, -0.0058,  1.0000]],\n",
       "       dtype=torch.float64)"
      ]
     },
     "execution_count": 96,
     "metadata": {},
     "output_type": "execute_result"
    }
   ],
   "source": [
    " torch.corrcoef(total)"
   ]
  },
  {
   "cell_type": "markdown",
   "id": "8f594caf",
   "metadata": {},
   "source": [
    "##### 1.1.1 visualization y"
   ]
  },
  {
   "cell_type": "code",
   "execution_count": 419,
   "id": "5d8ec6e3",
   "metadata": {},
   "outputs": [
    {
     "data": {
      "text/plain": [
       "(array([2.240e+02, 4.950e+02, 7.730e+02, 1.647e+03, 2.524e+03, 3.654e+03,\n",
       "        4.189e+03, 5.104e+03, 3.978e+03, 2.614e+03, 1.487e+03, 9.660e+02,\n",
       "        6.450e+02, 5.130e+02, 2.760e+02, 1.820e+02, 1.050e+02, 7.200e+01,\n",
       "        5.000e+01, 4.190e+02, 9.000e+00, 6.000e+00, 9.000e+00, 8.000e+00,\n",
       "        4.000e+00, 2.000e+00, 2.000e+00, 0.000e+00, 3.000e+00, 1.000e+00,\n",
       "        1.000e+00, 2.600e+01, 0.000e+00, 0.000e+00, 0.000e+00, 0.000e+00,\n",
       "        0.000e+00, 0.000e+00, 0.000e+00, 1.000e+00]),\n",
       " array([-0.058583  , -0.05045175, -0.0423205 , -0.03418925, -0.026058  ,\n",
       "        -0.01792675, -0.0097955 , -0.00166425,  0.006467  ,  0.01459825,\n",
       "         0.0227295 ,  0.03086075,  0.038992  ,  0.04712325,  0.0552545 ,\n",
       "         0.06338575,  0.071517  ,  0.07964825,  0.0877795 ,  0.09591075,\n",
       "         0.104042  ,  0.11217325,  0.1203045 ,  0.12843575,  0.136567  ,\n",
       "         0.14469825,  0.1528295 ,  0.16096075,  0.169092  ,  0.17722325,\n",
       "         0.1853545 ,  0.19348575,  0.201617  ,  0.20974825,  0.2178795 ,\n",
       "         0.22601075,  0.234142  ,  0.24227325,  0.2504045 ,  0.25853575,\n",
       "         0.266667  ]),\n",
       " <BarContainer object of 40 artists>)"
      ]
     },
     "execution_count": 419,
     "metadata": {},
     "output_type": "execute_result"
    },
    {
     "data": {
      "image/png": "[encoded data removed]",
      "text/plain": [
       "<Figure size 432x288 with 1 Axes>"
      ]
     },
     "metadata": {
      "needs_background": "light"
     },
     "output_type": "display_data"
    }
   ],
   "source": [
    "plt.hist(y, bins = 40, facecolor = \"blue\", edgecolor=\"black\")"
   ]
  },
  {
   "cell_type": "markdown",
   "id": "33e76aaa",
   "metadata": {},
   "source": [
    "#### 1.1.2 Visualization x1"
   ]
  },
  {
   "cell_type": "code",
   "execution_count": 420,
   "id": "17a19563",
   "metadata": {},
   "outputs": [
    {
     "data": {
      "text/plain": [
       "(array([1.8655e+04, 6.6380e+03, 2.2440e+03, 1.0000e+03, 5.0700e+02,\n",
       "        3.1100e+02, 1.7200e+02, 1.0700e+02, 9.4000e+01, 6.2000e+01,\n",
       "        5.1000e+01, 2.4000e+01, 2.5000e+01, 1.9000e+01, 2.3000e+01,\n",
       "        1.6000e+01, 3.0000e+00, 5.0000e+00, 8.0000e+00, 6.0000e+00,\n",
       "        3.0000e+00, 3.0000e+00, 1.0000e+00, 2.0000e+00, 3.0000e+00,\n",
       "        1.0000e+00, 0.0000e+00, 1.0000e+00, 1.0000e+00, 1.0000e+00,\n",
       "        0.0000e+00, 0.0000e+00, 1.0000e+00, 0.0000e+00, 0.0000e+00,\n",
       "        0.0000e+00, 0.0000e+00, 1.0000e+00, 0.0000e+00, 1.0000e+00]),\n",
       " array([0.   , 0.025, 0.05 , 0.075, 0.1  , 0.125, 0.15 , 0.175, 0.2  ,\n",
       "        0.225, 0.25 , 0.275, 0.3  , 0.325, 0.35 , 0.375, 0.4  , 0.425,\n",
       "        0.45 , 0.475, 0.5  , 0.525, 0.55 , 0.575, 0.6  , 0.625, 0.65 ,\n",
       "        0.675, 0.7  , 0.725, 0.75 , 0.775, 0.8  , 0.825, 0.85 , 0.875,\n",
       "        0.9  , 0.925, 0.95 , 0.975, 1.   ]),\n",
       " <BarContainer object of 40 artists>)"
      ]
     },
     "execution_count": 420,
     "metadata": {},
     "output_type": "execute_result"
    },
    {
     "data": {
      "image/png": "[encoded data removed]",
      "text/plain": [
       "<Figure size 432x288 with 1 Axes>"
      ]
     },
     "metadata": {
      "needs_background": "light"
     },
     "output_type": "display_data"
    }
   ],
   "source": [
    "plt.hist(x1, bins = 40, facecolor = \"blue\", edgecolor=\"black\")"
   ]
  },
  {
   "cell_type": "markdown",
   "id": "3e068694",
   "metadata": {},
   "source": [
    "#### 1.1.2 Visualization x2"
   ]
  },
  {
   "cell_type": "code",
   "execution_count": 421,
   "id": "5b7437fe",
   "metadata": {},
   "outputs": [
    {
     "data": {
      "text/plain": [
       "(array([1.8560e+03, 1.5771e+04, 7.6670e+03, 2.4010e+03, 1.0190e+03,\n",
       "        4.7100e+02, 2.7500e+02, 1.6600e+02, 1.0800e+02, 7.9000e+01,\n",
       "        3.8000e+01, 3.5000e+01, 1.8000e+01, 1.6000e+01, 1.4000e+01,\n",
       "        7.0000e+00, 1.4000e+01, 5.0000e+00, 5.0000e+00, 4.0000e+00,\n",
       "        2.0000e+00, 2.0000e+00, 2.0000e+00, 3.0000e+00, 1.0000e+00,\n",
       "        1.0000e+00, 1.0000e+00, 1.0000e+00, 1.0000e+00, 0.0000e+00,\n",
       "        0.0000e+00, 0.0000e+00, 1.0000e+00, 1.0000e+00, 0.0000e+00,\n",
       "        0.0000e+00, 0.0000e+00, 1.0000e+00, 1.0000e+00, 2.0000e+00]),\n",
       " array([0.   , 0.025, 0.05 , 0.075, 0.1  , 0.125, 0.15 , 0.175, 0.2  ,\n",
       "        0.225, 0.25 , 0.275, 0.3  , 0.325, 0.35 , 0.375, 0.4  , 0.425,\n",
       "        0.45 , 0.475, 0.5  , 0.525, 0.55 , 0.575, 0.6  , 0.625, 0.65 ,\n",
       "        0.675, 0.7  , 0.725, 0.75 , 0.775, 0.8  , 0.825, 0.85 , 0.875,\n",
       "        0.9  , 0.925, 0.95 , 0.975, 1.   ]),\n",
       " <BarContainer object of 40 artists>)"
      ]
     },
     "execution_count": 421,
     "metadata": {},
     "output_type": "execute_result"
    },
    {
     "data": {
      "image/png": "[encoded data removed]",
      "text/plain": [
       "<Figure size 432x288 with 1 Axes>"
      ]
     },
     "metadata": {
      "needs_background": "light"
     },
     "output_type": "display_data"
    }
   ],
   "source": [
    "plt.hist(x2, bins = 40, facecolor = \"blue\", edgecolor=\"black\")"
   ]
  },
  {
   "cell_type": "markdown",
   "id": "5e158cf1",
   "metadata": {},
   "source": [
    "#### 1.1.2 Visualization x3"
   ]
  },
  {
   "cell_type": "code",
   "execution_count": 422,
   "id": "30ec2f09",
   "metadata": {},
   "outputs": [
    {
     "data": {
      "text/plain": [
       "(array([  40.,   76.,  113.,  146.,  215.,  277.,  350.,  395.,  529.,\n",
       "         567.,  680.,  750.,  870.,  891., 1063., 1039., 1277., 1274.,\n",
       "        1542., 1946., 2322., 1629., 1457., 1315., 1164., 1075.,  959.,\n",
       "         885.,  843.,  756.,  693.,  528.,  497.,  391.,  313.,  251.,\n",
       "         191.,  123.,   70.,  487.]),\n",
       " array([0.   , 0.025, 0.05 , 0.075, 0.1  , 0.125, 0.15 , 0.175, 0.2  ,\n",
       "        0.225, 0.25 , 0.275, 0.3  , 0.325, 0.35 , 0.375, 0.4  , 0.425,\n",
       "        0.45 , 0.475, 0.5  , 0.525, 0.55 , 0.575, 0.6  , 0.625, 0.65 ,\n",
       "        0.675, 0.7  , 0.725, 0.75 , 0.775, 0.8  , 0.825, 0.85 , 0.875,\n",
       "        0.9  , 0.925, 0.95 , 0.975, 1.   ]),\n",
       " <BarContainer object of 40 artists>)"
      ]
     },
     "execution_count": 422,
     "metadata": {},
     "output_type": "execute_result"
    },
    {
     "data": {
      "image/png": "[encoded data removed]",
      "text/plain": [
       "<Figure size 432x288 with 1 Axes>"
      ]
     },
     "metadata": {
      "needs_background": "light"
     },
     "output_type": "display_data"
    }
   ],
   "source": [
    "plt.hist(x3, bins = 40, facecolor = \"blue\", edgecolor=\"black\")"
   ]
  },
  {
   "cell_type": "markdown",
   "id": "a3d066e7",
   "metadata": {},
   "source": [
    "#### 1.1.2 Visualization x4"
   ]
  },
  {
   "cell_type": "code",
   "execution_count": 423,
   "id": "16276f6d",
   "metadata": {},
   "outputs": [
    {
     "data": {
      "text/plain": [
       "(array([4.180e+02, 1.983e+03, 4.966e+03, 5.930e+03, 4.744e+03, 3.487e+03,\n",
       "        2.467e+03, 1.625e+03, 1.140e+03, 8.170e+02, 5.340e+02, 4.050e+02,\n",
       "        3.100e+02, 3.070e+02, 2.300e+02, 1.940e+02, 1.110e+02, 6.100e+01,\n",
       "        5.000e+01, 5.200e+01, 1.500e+01, 2.300e+01, 1.200e+01, 2.600e+01,\n",
       "        1.500e+01, 1.000e+01, 1.000e+01, 1.400e+01, 8.000e+00, 1.000e+01,\n",
       "        3.000e+00, 2.000e+00, 2.000e+00, 2.000e+00, 2.000e+00, 2.000e+00,\n",
       "        1.000e+00, 0.000e+00, 0.000e+00, 1.000e+00]),\n",
       " array([0.   , 0.025, 0.05 , 0.075, 0.1  , 0.125, 0.15 , 0.175, 0.2  ,\n",
       "        0.225, 0.25 , 0.275, 0.3  , 0.325, 0.35 , 0.375, 0.4  , 0.425,\n",
       "        0.45 , 0.475, 0.5  , 0.525, 0.55 , 0.575, 0.6  , 0.625, 0.65 ,\n",
       "        0.675, 0.7  , 0.725, 0.75 , 0.775, 0.8  , 0.825, 0.85 , 0.875,\n",
       "        0.9  , 0.925, 0.95 , 0.975, 1.   ]),\n",
       " <BarContainer object of 40 artists>)"
      ]
     },
     "execution_count": 423,
     "metadata": {},
     "output_type": "execute_result"
    },
    {
     "data": {
      "image/png": "[encoded data removed]",
      "text/plain": [
       "<Figure size 432x288 with 1 Axes>"
      ]
     },
     "metadata": {
      "needs_background": "light"
     },
     "output_type": "display_data"
    }
   ],
   "source": [
    "plt.hist(x4, bins = 40, facecolor = \"blue\", edgecolor=\"black\")"
   ]
  },
  {
   "cell_type": "markdown",
   "id": "a7a840fb",
   "metadata": {},
   "source": [
    "#### 1.1.2 Visualization x5"
   ]
  },
  {
   "cell_type": "code",
   "execution_count": 424,
   "id": "e71cdea5",
   "metadata": {},
   "outputs": [
    {
     "data": {
      "text/plain": [
       "(array([5.0000e+00, 2.0000e+00, 0.0000e+00, 0.0000e+00, 0.0000e+00,\n",
       "        0.0000e+00, 0.0000e+00, 0.0000e+00, 0.0000e+00, 0.0000e+00,\n",
       "        0.0000e+00, 0.0000e+00, 0.0000e+00, 0.0000e+00, 0.0000e+00,\n",
       "        0.0000e+00, 0.0000e+00, 0.0000e+00, 0.0000e+00, 0.0000e+00,\n",
       "        0.0000e+00, 0.0000e+00, 4.0000e+00, 3.0000e+00, 0.0000e+00,\n",
       "        0.0000e+00, 0.0000e+00, 0.0000e+00, 1.4000e+01, 0.0000e+00,\n",
       "        0.0000e+00, 7.0000e+00, 2.0000e+01, 6.4000e+01, 3.9700e+02,\n",
       "        2.9302e+04, 1.0700e+02, 3.4000e+01, 2.3000e+01, 7.0000e+00]),\n",
       " array([0.   , 0.025, 0.05 , 0.075, 0.1  , 0.125, 0.15 , 0.175, 0.2  ,\n",
       "        0.225, 0.25 , 0.275, 0.3  , 0.325, 0.35 , 0.375, 0.4  , 0.425,\n",
       "        0.45 , 0.475, 0.5  , 0.525, 0.55 , 0.575, 0.6  , 0.625, 0.65 ,\n",
       "        0.675, 0.7  , 0.725, 0.75 , 0.775, 0.8  , 0.825, 0.85 , 0.875,\n",
       "        0.9  , 0.925, 0.95 , 0.975, 1.   ]),\n",
       " <BarContainer object of 40 artists>)"
      ]
     },
     "execution_count": 424,
     "metadata": {},
     "output_type": "execute_result"
    },
    {
     "data": {
      "image/png": "[encoded data removed]",
      "text/plain": [
       "<Figure size 432x288 with 1 Axes>"
      ]
     },
     "metadata": {
      "needs_background": "light"
     },
     "output_type": "display_data"
    }
   ],
   "source": [
    "plt.hist(x5, bins = 40, facecolor = \"blue\", edgecolor=\"black\")"
   ]
  },
  {
   "cell_type": "markdown",
   "id": "5ae31bd6",
   "metadata": {},
   "source": [
    "## 2. Split dataset into train and test"
   ]
  },
  {
   "cell_type": "code",
   "execution_count": 425,
   "id": "99f2e7d1",
   "metadata": {},
   "outputs": [],
   "source": [
    "testIndexs = random.sample(range(0, len(answers) - 1), 10000)\n",
    "train = []\n",
    "trainAns = []\n",
    "test = []\n",
    "testAns = []\n",
    "for i in range(len(answers)):\n",
    "    if i not in testIndexs:\n",
    "        train.append(inputs[i])\n",
    "        trainAns.append(answers[i])\n",
    "    else:\n",
    "        test.append(inputs[i])\n",
    "        testAns.append(answers[i])\n",
    "train = torch.stack(train).float()\n",
    "trainAns = np.reshape(torch.stack(trainAns).float(), (-1, 1))\n",
    "test = torch.stack(test).float()\n",
    "testAns = np.reshape(torch.stack(testAns).float(), (-1, 1))"
   ]
  },
  {
   "cell_type": "markdown",
   "id": "c1b71009",
   "metadata": {},
   "source": [
    "## 3. Set up model and training..."
   ]
  },
  {
   "cell_type": "code",
   "execution_count": 426,
   "id": "97123ede",
   "metadata": {},
   "outputs": [
    {
     "name": "stdout",
     "output_type": "stream",
     "text": [
      "LinearRegression(\n",
      "  (linear1): Linear(in_features=5, out_features=1, bias=True)\n",
      ")\n"
     ]
    }
   ],
   "source": [
    "model = Model(LinearRegression())"
   ]
  },
  {
   "cell_type": "code",
   "execution_count": 427,
   "id": "268ac7d8",
   "metadata": {},
   "outputs": [
    {
     "name": "stdout",
     "output_type": "stream",
     "text": [
      "Epoch 0, loss 0.1085614413022995, predict -0.3052663207054138\n",
      "Epoch 1, loss 0.09999532997608185, predict -0.29239505529403687\n",
      "Epoch 2, loss 0.09212355315685272, predict -0.2800566852092743\n",
      "Epoch 3, loss 0.08488979935646057, predict -0.268229216337204\n",
      "Epoch 4, loss 0.07824233174324036, predict -0.2568913996219635\n",
      "Epoch 5, loss 0.0721336379647255, predict -0.24602308869361877\n",
      "Epoch 6, loss 0.06652000546455383, predict -0.23560473322868347\n",
      "Epoch 7, loss 0.06136131286621094, predict -0.22561776638031006\n",
      "Epoch 8, loss 0.056620653718709946, predict -0.21604429185390472\n",
      "Epoch 9, loss 0.05226413905620575, predict -0.20686721801757812\n",
      "Epoch 10, loss 0.048260632902383804, predict -0.19807013869285583\n",
      "Epoch 11, loss 0.04458151012659073, predict -0.18963730335235596\n",
      "Epoch 12, loss 0.04120046645402908, predict -0.1815536469221115\n",
      "Epoch 13, loss 0.03809332847595215, predict -0.17380473017692566\n",
      "Epoch 14, loss 0.03523790463805199, predict -0.16637663543224335\n",
      "Epoch 15, loss 0.032613761723041534, predict -0.15925613045692444\n",
      "Epoch 16, loss 0.030202161520719528, predict -0.1524304896593094\n",
      "Epoch 17, loss 0.02798587828874588, predict -0.14588750898838043\n",
      "Epoch 18, loss 0.02594906836748123, predict -0.13961546123027802\n",
      "Epoch 19, loss 0.024077175185084343, predict -0.13360309600830078\n",
      "Epoch 20, loss 0.022356826812028885, predict -0.12783972918987274\n",
      "Epoch 21, loss 0.020775744691491127, predict -0.12231504172086716\n",
      "Epoch 22, loss 0.019322633743286133, predict -0.11701913923025131\n",
      "Epoch 23, loss 0.017987115308642387, predict -0.11194254457950592\n",
      "Epoch 24, loss 0.016759658232331276, predict -0.10707617551088333\n",
      "Epoch 25, loss 0.015631500631570816, predict -0.10241133719682693\n",
      "Epoch 26, loss 0.014594588428735733, predict -0.09793967008590698\n",
      "Epoch 27, loss 0.013641522265970707, predict -0.09365322440862656\n",
      "Epoch 28, loss 0.012765510939061642, predict -0.08954430371522903\n",
      "Epoch 29, loss 0.011960306204855442, predict -0.08560553938150406\n",
      "Epoch 30, loss 0.011220164597034454, predict -0.08182993531227112\n",
      "Epoch 31, loss 0.010539811104536057, predict -0.07821068167686462\n",
      "Epoch 32, loss 0.0099143972620368, predict -0.07474133372306824\n",
      "Epoch 33, loss 0.0093394685536623, predict -0.07141568511724472\n",
      "Epoch 34, loss 0.008810934610664845, predict -0.06822779774665833\n",
      "Epoch 35, loss 0.008325031958520412, predict -0.06517193466424942\n",
      "Epoch 36, loss 0.007878304459154606, predict -0.062242668122053146\n",
      "Epoch 37, loss 0.007467576768249273, predict -0.05943473055958748\n",
      "Epoch 38, loss 0.007089928723871708, predict -0.05674312263727188\n",
      "Epoch 39, loss 0.006742680910974741, predict -0.05416300520300865\n",
      "Epoch 40, loss 0.006423367653042078, predict -0.05168977007269859\n",
      "Epoch 41, loss 0.006129722576588392, predict -0.049319010227918625\n",
      "Epoch 42, loss 0.005859667900949717, predict -0.04704645648598671\n",
      "Epoch 43, loss 0.005611288361251354, predict -0.04486805945634842\n",
      "Epoch 44, loss 0.005382827948778868, predict -0.042779915034770966\n",
      "Epoch 45, loss 0.005172671750187874, predict -0.04077829420566559\n",
      "Epoch 46, loss 0.004979336634278297, predict -0.03885960206389427\n",
      "Epoch 47, loss 0.004801458213478327, predict -0.037020422518253326\n",
      "Epoch 48, loss 0.0046377829276025295, predict -0.035257451236248016\n",
      "Epoch 49, loss 0.004487160127609968, predict -0.03356753662228584\n",
      "Epoch 50, loss 0.004348532762378454, predict -0.031947650015354156\n",
      "Epoch 51, loss 0.004220927134156227, predict -0.03039490431547165\n",
      "Epoch 52, loss 0.004103449638932943, predict -0.02890651486814022\n",
      "Epoch 53, loss 0.003995281178504229, predict -0.02747981622815132\n",
      "Epoch 54, loss 0.0038956652861088514, predict -0.02611224725842476\n",
      "Epoch 55, loss 0.0038039095234125853, predict -0.02480137161910534\n",
      "Epoch 56, loss 0.003719376865774393, predict -0.023544831201434135\n",
      "Epoch 57, loss 0.003641481976956129, predict -0.02234038896858692\n",
      "Epoch 58, loss 0.0035696872510015965, predict -0.021185871213674545\n",
      "Epoch 59, loss 0.0035034979227930307, predict -0.02007923275232315\n",
      "Epoch 60, loss 0.0034424595069140196, predict -0.019018476828932762\n",
      "Epoch 61, loss 0.003386155469343066, predict -0.018001703545451164\n",
      "Epoch 62, loss 0.003334200708195567, predict -0.017027098685503006\n",
      "Epoch 63, loss 0.0032862452790141106, predict -0.016092907637357712\n",
      "Epoch 64, loss 0.0032419629860669374, predict -0.015197476372122765\n",
      "Epoch 65, loss 0.0032010574359446764, predict -0.014339178800582886\n",
      "Epoch 66, loss 0.003163254354149103, predict -0.013516487553715706\n",
      "Epoch 67, loss 0.003128302749246359, predict -0.012727928347885609\n",
      "Epoch 68, loss 0.00309597235172987, predict -0.01197208371013403\n",
      "Epoch 69, loss 0.003066049888730049, predict -0.0112476060166955\n",
      "Epoch 70, loss 0.0030383409466594458, predict -0.010553186759352684\n",
      "Epoch 71, loss 0.0030126662459224463, predict -0.009887601248919964\n",
      "Epoch 72, loss 0.0029888618737459183, predict -0.009249629452824593\n",
      "Epoch 73, loss 0.0029667746275663376, predict -0.008638150058686733\n",
      "Epoch 74, loss 0.0029462669044733047, predict -0.008052058517932892\n",
      "Epoch 75, loss 0.0029272111132740974, predict -0.007490294519811869\n",
      "Epoch 76, loss 0.002909488510340452, predict -0.006951863877475262\n",
      "Epoch 77, loss 0.002892992692068219, predict -0.006435793358832598\n",
      "Epoch 78, loss 0.002877623774111271, predict -0.005941164214164019\n",
      "Epoch 79, loss 0.002863290486857295, predict -0.00546708470210433\n",
      "Epoch 80, loss 0.0028499094769358635, predict -0.00501270079985261\n",
      "Epoch 81, loss 0.002837403444573283, predict -0.00457720085978508\n",
      "Epoch 82, loss 0.002825701842084527, predict -0.004159805830568075\n",
      "Epoch 83, loss 0.00281474064104259, predict -0.0037597634363919497\n",
      "Epoch 84, loss 0.002804459072649479, predict -0.003376344218850136\n",
      "Epoch 85, loss 0.0027948019560426474, predict -0.003008871106430888\n",
      "Epoch 86, loss 0.0027857194654643536, predict -0.002656688215211034\n",
      "Epoch 87, loss 0.0027771652676165104, predict -0.0023191580548882484\n",
      "Epoch 88, loss 0.0027690972201526165, predict -0.001995671074837446\n",
      "Epoch 89, loss 0.0027614752762019634, predict -0.0016856444999575615\n",
      "Epoch 90, loss 0.0027542640455067158, predict -0.0013885247753933072\n",
      "Epoch 91, loss 0.0027474304661154747, predict -0.0011037848889827728\n",
      "Epoch 92, loss 0.002740944502875209, predict -0.0008309062686748803\n",
      "Epoch 93, loss 0.002734777517616749, predict -0.0005693967686966062\n",
      "Epoch 94, loss 0.0027289048302918673, predict -0.0003187827824149281\n",
      "Epoch 95, loss 0.002723301760852337, predict -7.861039921408519e-05\n",
      "Epoch 96, loss 0.002717947354540229, predict 0.00015154761786106974\n",
      "Epoch 97, loss 0.0027128213550895452, predict 0.00037210367736406624\n",
      "Epoch 98, loss 0.002707906300202012, predict 0.0005834538605995476\n",
      "Epoch 99, loss 0.0027031847275793552, predict 0.0007859858451411128\n"
     ]
    }
   ],
   "source": [
    "diffs = []\n",
    "for epoch in range(100):\n",
    "    model.trainAnEpoch(train, trainAns)\n",
    "    predict = model.predict(test)\n",
    "    diff = torch.abs(testAns-predict).mean().item()\n",
    "    diffs.append(diff)\n",
    "#     print(list(model.model.parameters()))\n",
    "    print(\"Epoch {}, loss {}, predict {}\".format(epoch, model.loss[-1], predict.mean()))"
   ]
  },
  {
   "cell_type": "markdown",
   "id": "cad2e58a",
   "metadata": {},
   "source": [
    "## 4. Visualization loss"
   ]
  },
  {
   "cell_type": "code",
   "execution_count": 428,
   "id": "adb398c5",
   "metadata": {},
   "outputs": [
    {
     "data": {
      "image/png": "[encoded data removed]",
      "text/plain": [
       "<Figure size 432x288 with 1 Axes>"
      ]
     },
     "metadata": {
      "needs_background": "light"
     },
     "output_type": "display_data"
    }
   ],
   "source": [
    "plt.plot(model.loss)\n",
    "plt.ylabel(\"loss\")\n",
    "plt.xlabel(\"points\")\n",
    "plt.show()"
   ]
  },
  {
   "cell_type": "code",
   "execution_count": 429,
   "id": "db2c7c40",
   "metadata": {},
   "outputs": [
    {
     "data": {
      "image/png": "[encoded data removed]",
      "text/plain": [
       "<Figure size 432x288 with 1 Axes>"
      ]
     },
     "metadata": {
      "needs_background": "light"
     },
     "output_type": "display_data"
    }
   ],
   "source": [
    "plt.plot(diffs, color=\"red\")\n",
    "plt.ylabel(\"diff\")\n",
    "plt.xlabel(\"points\")\n",
    "plt.show()"
   ]
  },
  {
   "cell_type": "markdown",
   "id": "b7d3281b",
   "metadata": {},
   "source": [
    "## 5. test"
   ]
  },
  {
   "cell_type": "markdown",
   "id": "e50922ce",
   "metadata": {},
   "source": [
    "### 5.1 Sampling"
   ]
  },
  {
   "cell_type": "code",
   "execution_count": 437,
   "id": "22f78bb7",
   "metadata": {},
   "outputs": [
    {
     "data": {
      "image/png": "[encoded data removed]",
      "text/plain": [
       "<Figure size 432x288 with 1 Axes>"
      ]
     },
     "metadata": {
      "needs_background": "light"
     },
     "output_type": "display_data"
    }
   ],
   "source": [
    "predict = model.predict(test)\n",
    "plt.plot(torch.detach(predict[:300]), color=\"blue\", linestyle='dashed', label=\"predict\")\n",
    "plt.plot(testAns[:300], color=\"red\", label=\"answer\")\n",
    "plt.ylabel(\"Ups and downs\")\n",
    "plt.xlabel(\"points\")\n",
    "plt.title(\"Pred & true-value\")\n",
    "plt.show()"
   ]
  },
  {
   "cell_type": "code",
   "execution_count": 436,
   "id": "6471c17e",
   "metadata": {},
   "outputs": [
    {
     "data": {
      "text/plain": [
       "Text(0.5, 1.0, 'Error fluctuation')"
      ]
     },
     "execution_count": 436,
     "metadata": {},
     "output_type": "execute_result"
    },
    {
     "data": {
      "image/png": "[encoded data removed]",
      "text/plain": [
       "<Figure size 432x288 with 1 Axes>"
      ]
     },
     "metadata": {
      "needs_background": "light"
     },
     "output_type": "display_data"
    }
   ],
   "source": [
    "plt.plot(torch.detach(testAns-predict)[:300], color=\"green\")\n",
    "plt.title(\"Error fluctuation\")"
   ]
  },
  {
   "cell_type": "code",
   "execution_count": 438,
   "id": "bd6afd19",
   "metadata": {},
   "outputs": [
    {
     "name": "stdout",
     "output_type": "stream",
     "text": [
      "ave diff: 0.04089708998799324\n"
     ]
    }
   ],
   "source": [
    "print(\"ave diff: {}\".format(torch.abs(testAns-predict).mean()))"
   ]
  },
  {
   "cell_type": "code",
   "execution_count": 440,
   "id": "fd4acbf8",
   "metadata": {},
   "outputs": [
    {
     "name": "stdout",
     "output_type": "stream",
     "text": [
      "std of diffs: 0.03328888863325119\n"
     ]
    }
   ],
   "source": [
    "print(\"std of diffs: {}\".format(torch.abs(testAns-predict).std()))"
   ]
  },
  {
   "cell_type": "code",
   "execution_count": 441,
   "id": "e886b664",
   "metadata": {},
   "outputs": [
    {
     "name": "stdout",
     "output_type": "stream",
     "text": [
      "largest diff: 0.27044349908828735\n"
     ]
    }
   ],
   "source": [
    "print(\"largest diff: {}\".format(torch.abs(testAns-predict).max()))"
   ]
  },
  {
   "cell_type": "markdown",
   "id": "24b13de4",
   "metadata": {},
   "source": [
    "### 5.2 Average test"
   ]
  },
  {
   "cell_type": "code",
   "execution_count": null,
   "id": "3a830eac",
   "metadata": {},
   "outputs": [],
   "source": []
  },
  {
   "cell_type": "markdown",
   "id": "51dc3c0e",
   "metadata": {},
   "source": [
    "### 5.3 ranking test"
   ]
  },
  {
   "cell_type": "code",
   "execution_count": 450,
   "id": "ee98315d",
   "metadata": {},
   "outputs": [
    {
     "data": {
      "text/html": [
       "<div>\n",
       "<style scoped>\n",
       "    .dataframe tbody tr th:only-of-type {\n",
       "        vertical-align: middle;\n",
       "    }\n",
       "\n",
       "    .dataframe tbody tr th {\n",
       "        vertical-align: top;\n",
       "    }\n",
       "\n",
       "    .dataframe thead th {\n",
       "        text-align: right;\n",
       "    }\n",
       "</style>\n",
       "<table border=\"1\" class=\"dataframe\">\n",
       "  <thead>\n",
       "    <tr style=\"text-align: right;\">\n",
       "      <th></th>\n",
       "      <th>代码</th>\n",
       "    </tr>\n",
       "  </thead>\n",
       "  <tbody>\n",
       "    <tr>\n",
       "      <th>0</th>\n",
       "      <td>688206.0</td>\n",
       "    </tr>\n",
       "    <tr>\n",
       "      <th>1</th>\n",
       "      <td>1301166.0</td>\n",
       "    </tr>\n",
       "    <tr>\n",
       "      <th>2</th>\n",
       "      <td>1300075.0</td>\n",
       "    </tr>\n",
       "    <tr>\n",
       "      <th>3</th>\n",
       "      <td>1300412.0</td>\n",
       "    </tr>\n",
       "    <tr>\n",
       "      <th>4</th>\n",
       "      <td>1300233.0</td>\n",
       "    </tr>\n",
       "    <tr>\n",
       "      <th>...</th>\n",
       "      <td>...</td>\n",
       "    </tr>\n",
       "    <tr>\n",
       "      <th>4411</th>\n",
       "      <td>601016.0</td>\n",
       "    </tr>\n",
       "    <tr>\n",
       "      <th>4412</th>\n",
       "      <td>1002763.0</td>\n",
       "    </tr>\n",
       "    <tr>\n",
       "      <th>4413</th>\n",
       "      <td>1300152.0</td>\n",
       "    </tr>\n",
       "    <tr>\n",
       "      <th>4414</th>\n",
       "      <td>1002608.0</td>\n",
       "    </tr>\n",
       "    <tr>\n",
       "      <th>4415</th>\n",
       "      <td>600821.0</td>\n",
       "    </tr>\n",
       "  </tbody>\n",
       "</table>\n",
       "<p>4416 rows × 1 columns</p>\n",
       "</div>"
      ],
      "text/plain": [
       "             代码\n",
       "0      688206.0\n",
       "1     1301166.0\n",
       "2     1300075.0\n",
       "3     1300412.0\n",
       "4     1300233.0\n",
       "...         ...\n",
       "4411   601016.0\n",
       "4412  1002763.0\n",
       "4413  1300152.0\n",
       "4414  1002608.0\n",
       "4415   600821.0\n",
       "\n",
       "[4416 rows x 1 columns]"
      ]
     },
     "execution_count": 450,
     "metadata": {},
     "output_type": "execute_result"
    }
   ],
   "source": [
    "inputDate = pd.read_csv(\"./data/2021-12-28.csv\",\n",
    "                       sep=\",\",\n",
    "                       header=0,\n",
    "                       usecols=[0, 13, 14, 15, 16, 17],\n",
    "                       encoding=\"gbk\",\n",
    "                      dtype=\"float64\").dropna()\n",
    "targetDate = pd.read_csv(\"./data/2021-12-28.csv\",\n",
    "                       sep=\",\",\n",
    "                       header=0,\n",
    "                       usecols=[0],\n",
    "                       encoding=\"gbk\",\n",
    "                      dtype=\"float64\").dropna()\n",
    "targetDate"
   ]
  },
  {
   "cell_type": "code",
   "execution_count": 451,
   "id": "5b7b8b76",
   "metadata": {},
   "outputs": [
    {
     "name": "stdout",
     "output_type": "stream",
     "text": [
      "Max: 19.533357499597, Min: 0.0\n",
      "Max: 1.0, Min: -0.97355081442765\n",
      "Max: 0.24945560125817, Min: 0.0\n",
      "Max: 11077.192982456, Min: -39400.0\n",
      "Max: 2693275521222.0, Min: 122253074.4\n"
     ]
    },
    {
     "data": {
      "text/html": [
       "<div>\n",
       "<style scoped>\n",
       "    .dataframe tbody tr th:only-of-type {\n",
       "        vertical-align: middle;\n",
       "    }\n",
       "\n",
       "    .dataframe tbody tr th {\n",
       "        vertical-align: top;\n",
       "    }\n",
       "\n",
       "    .dataframe thead th {\n",
       "        text-align: right;\n",
       "    }\n",
       "</style>\n",
       "<table border=\"1\" class=\"dataframe\">\n",
       "  <thead>\n",
       "    <tr style=\"text-align: right;\">\n",
       "      <th></th>\n",
       "      <th>代码</th>\n",
       "      <th>量比</th>\n",
       "      <th>委比</th>\n",
       "      <th>振幅</th>\n",
       "      <th>市盈率</th>\n",
       "      <th>流通市值</th>\n",
       "    </tr>\n",
       "  </thead>\n",
       "  <tbody>\n",
       "    <tr>\n",
       "      <th>2</th>\n",
       "      <td>1300075.0</td>\n",
       "      <td>0.136180</td>\n",
       "      <td>1.000000</td>\n",
       "      <td>0.817342</td>\n",
       "      <td>0.781339</td>\n",
       "      <td>0.002977</td>\n",
       "    </tr>\n",
       "    <tr>\n",
       "      <th>3</th>\n",
       "      <td>1300412.0</td>\n",
       "      <td>0.069778</td>\n",
       "      <td>1.000000</td>\n",
       "      <td>0.770688</td>\n",
       "      <td>0.781734</td>\n",
       "      <td>0.001552</td>\n",
       "    </tr>\n",
       "    <tr>\n",
       "      <th>4</th>\n",
       "      <td>1300233.0</td>\n",
       "      <td>0.220128</td>\n",
       "      <td>1.000000</td>\n",
       "      <td>0.827702</td>\n",
       "      <td>0.780104</td>\n",
       "      <td>0.004753</td>\n",
       "    </tr>\n",
       "    <tr>\n",
       "      <th>5</th>\n",
       "      <td>1300248.0</td>\n",
       "      <td>0.069490</td>\n",
       "      <td>1.000000</td>\n",
       "      <td>0.853524</td>\n",
       "      <td>0.781314</td>\n",
       "      <td>0.002079</td>\n",
       "    </tr>\n",
       "    <tr>\n",
       "      <th>6</th>\n",
       "      <td>1300261.0</td>\n",
       "      <td>0.067109</td>\n",
       "      <td>1.000000</td>\n",
       "      <td>0.376524</td>\n",
       "      <td>0.782500</td>\n",
       "      <td>0.006808</td>\n",
       "    </tr>\n",
       "    <tr>\n",
       "      <th>...</th>\n",
       "      <td>...</td>\n",
       "      <td>...</td>\n",
       "      <td>...</td>\n",
       "      <td>...</td>\n",
       "      <td>...</td>\n",
       "      <td>...</td>\n",
       "    </tr>\n",
       "    <tr>\n",
       "      <th>4411</th>\n",
       "      <td>601016.0</td>\n",
       "      <td>0.031201</td>\n",
       "      <td>0.593965</td>\n",
       "      <td>0.158008</td>\n",
       "      <td>0.781369</td>\n",
       "      <td>0.011018</td>\n",
       "    </tr>\n",
       "    <tr>\n",
       "      <th>4412</th>\n",
       "      <td>1002763.0</td>\n",
       "      <td>0.065570</td>\n",
       "      <td>0.566181</td>\n",
       "      <td>0.148761</td>\n",
       "      <td>0.780813</td>\n",
       "      <td>0.001453</td>\n",
       "    </tr>\n",
       "    <tr>\n",
       "      <th>4413</th>\n",
       "      <td>1300152.0</td>\n",
       "      <td>0.037314</td>\n",
       "      <td>0.785759</td>\n",
       "      <td>0.145112</td>\n",
       "      <td>0.830544</td>\n",
       "      <td>0.001090</td>\n",
       "    </tr>\n",
       "    <tr>\n",
       "      <th>4414</th>\n",
       "      <td>1002608.0</td>\n",
       "      <td>0.042561</td>\n",
       "      <td>0.498262</td>\n",
       "      <td>0.152016</td>\n",
       "      <td>0.780862</td>\n",
       "      <td>0.009648</td>\n",
       "    </tr>\n",
       "    <tr>\n",
       "      <th>4415</th>\n",
       "      <td>600821.0</td>\n",
       "      <td>0.035952</td>\n",
       "      <td>0.510592</td>\n",
       "      <td>0.264877</td>\n",
       "      <td>0.781273</td>\n",
       "      <td>0.003483</td>\n",
       "    </tr>\n",
       "  </tbody>\n",
       "</table>\n",
       "<p>4405 rows × 6 columns</p>\n",
       "</div>"
      ],
      "text/plain": [
       "             代码        量比        委比        振幅       市盈率      流通市值\n",
       "2     1300075.0  0.136180  1.000000  0.817342  0.781339  0.002977\n",
       "3     1300412.0  0.069778  1.000000  0.770688  0.781734  0.001552\n",
       "4     1300233.0  0.220128  1.000000  0.827702  0.780104  0.004753\n",
       "5     1300248.0  0.069490  1.000000  0.853524  0.781314  0.002079\n",
       "6     1300261.0  0.067109  1.000000  0.376524  0.782500  0.006808\n",
       "...         ...       ...       ...       ...       ...       ...\n",
       "4411   601016.0  0.031201  0.593965  0.158008  0.781369  0.011018\n",
       "4412  1002763.0  0.065570  0.566181  0.148761  0.780813  0.001453\n",
       "4413  1300152.0  0.037314  0.785759  0.145112  0.830544  0.001090\n",
       "4414  1002608.0  0.042561  0.498262  0.152016  0.780862  0.009648\n",
       "4415   600821.0  0.035952  0.510592  0.264877  0.781273  0.003483\n",
       "\n",
       "[4405 rows x 6 columns]"
      ]
     },
     "execution_count": 451,
     "metadata": {},
     "output_type": "execute_result"
    }
   ],
   "source": [
    "for i in range(1, inputDate.shape[1]):\n",
    "    print(\"Max: {}, Min: {}\".format(inputDate.iloc[:,i].max(), inputDate.iloc[:,i].min()))\n",
    "    inputDate.iloc[:,i] = inputDate.iloc[:,i]-inputDate.iloc[:,i].min()\n",
    "    inputDate.iloc[:,i] = inputDate.iloc[:,i]/inputDate.iloc[:,i].max()\n",
    "inputDate"
   ]
  },
  {
   "cell_type": "code",
   "execution_count": 452,
   "id": "72240f0d",
   "metadata": {},
   "outputs": [],
   "source": [
    "inputpoints = []\n",
    "for index, inputpoint in inputDate.iterrows():\n",
    "    predict = model.predict(torch.tensor(np.asarray(inputpoint[1:])).float())\n",
    "    inputpoints.append([int(inputpoint[0].item()), predict.item()])\n",
    "inputpoints = sorted(inputpoints, key=lambda x: x[1], reverse=True)"
   ]
  },
  {
   "cell_type": "code",
   "execution_count": 453,
   "id": "f5d7c37b",
   "metadata": {},
   "outputs": [
    {
     "name": "stdout",
     "output_type": "stream",
     "text": [
      "Hit rate: 0.04\n"
     ]
    }
   ],
   "source": [
    "targetDate = [int(targetDate.iloc[i,0]) for i in range(50)]\n",
    "inputpoints = [inputpoints[i][0] for i in range(50)]\n",
    "\n",
    "print(\"Hit rate: {}\".format(len([code for code in targetDate if code in inputpoints])/50))"
   ]
  },
  {
   "cell_type": "markdown",
   "id": "614ec584",
   "metadata": {},
   "source": [
    "## 6. Model"
   ]
  },
  {
   "cell_type": "code",
   "execution_count": null,
   "id": "f22bd766",
   "metadata": {
    "scrolled": true
   },
   "outputs": [],
   "source": [
    "list(model.model.parameters())"
   ]
  },
  {
   "cell_type": "code",
   "execution_count": null,
   "id": "34e57634",
   "metadata": {},
   "outputs": [],
   "source": []
  }
 ],
 "metadata": {
  "kernelspec": {
   "display_name": "Python 3 (ipykernel)",
   "language": "python",
   "name": "python3"
  },
  "language_info": {
   "codemirror_mode": {
    "name": "ipython",
    "version": 3
   },
   "file_extension": ".py",
   "mimetype": "text/x-python",
   "name": "python",
   "nbconvert_exporter": "python",
   "pygments_lexer": "ipython3",
   "version": "3.9.7"
  }
 },
 "nbformat": 4,
 "nbformat_minor": 5
}
